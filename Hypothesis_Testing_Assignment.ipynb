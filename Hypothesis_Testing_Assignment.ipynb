{
 "cells": [
  {
   "cell_type": "markdown",
   "metadata": {
    "id": "wEPtWHTN-zvg"
   },
   "source": [
    "# <center> **Hypothesis Testing**"
   ]
  },
  {
   "cell_type": "markdown",
   "metadata": {
    "id": "ayRuyuJ8AClo"
   },
   "source": [
    "### Null & Alternate Hypothesis"
   ]
  },
  {
   "cell_type": "markdown",
   "metadata": {
    "id": "eKtIPPHAA8VC"
   },
   "source": [
    "**Question 1:**\n",
    "Suppose you are conducting a study to determine whether a new drug is effective in reducing blood pressure. Define the null hypothesis (H0) and the alternate hypothesis (H1) for this study. Explain the significance of each hypothesis in the context of your research.\n",
    "\n",
    "**Question 2:**\n",
    "You are working with a manufacturing company that claims its new manufacturing process can produce car batteries with a longer lifespan than the current process. Formulate the null and alternate hypotheses for this scenario. Additionally, explain why it's essential to have clear and well-defined hypotheses before conducting hypothesis testing.\n",
    "\n",
    "**Question 3:**\n",
    "A fast-food restaurant chain is concerned that the average delivery time for online orders has increased in recent months, potentially affecting customer satisfaction. Create the null and alternate hypotheses for testing whether there has been a significant increase in delivery times.\n",
    "\n",
    "*These questions will help you to practice defining and understanding null and alternate hypotheses in various real-world scenarios.*"
   ]
  },
  {
   "cell_type": "code",
   "execution_count": 4,
   "metadata": {
    "id": "-D8KGFdxA1RJ"
   },
   "outputs": [],
   "source": [
    "# Question 1 Ans :\n",
    "\n",
    "# Null Hypothesis: This hypothesis states that the new drug has no effect on blood pressure.\n",
    "# I assume Blood presure in control are (μ control) & Blood pressure receiving new drug are (μ treetment).\n",
    "# So, H0 is (μ control = μ treetment)\n",
    "\n",
    "# Alternative Hypothesis: This hypothesis states that the new drug is effective in reducing blood pressure. \n",
    "# So, H1 is (μ control > μ treetment) \n",
    "\n",
    "# Significance of Each Hypothesis:\n",
    "# Null Hypothesis:\n",
    "#     1. Null hypothesis is default assumption that there is no effect or difference.\n",
    "#     2. Null hypothesis implies that the new drug is not effective\n",
    "# Alternative Hypothesis:\n",
    "    # 1.  If data provides sufficient evidence to reject the null hypothesis, it supports that the new drug is effective in reducing blood pressure.\n",
    "    # 2.  Accepting alternative hypothesis means the drug produces a significant reduction in blood pressure."
   ]
  },
  {
   "cell_type": "code",
   "execution_count": 6,
   "metadata": {
    "id": "cAAfvz0CBC_b"
   },
   "outputs": [],
   "source": [
    "# Question 2 Ans :\n",
    "\n",
    "# Null Hypothesis: The null hypothesis states that the new manufacturing process does not produce\n",
    "# car batteries with a longer lifespan than the current process.\n",
    "# I assume the lifespan of car batteries produced by the current process is (μ current) \n",
    "# & the lifespan of car batteries produced by the new manufacturing process is (μ new).\n",
    "# So, H0 is (μ new = μ current)\n",
    "\n",
    "# Alternative Hypothesis: This hypothesis states that the new manufacturing process produces\n",
    "# car batteries with a longer lifespan than the current process.\n",
    "# So, H1 is (μ new > μ current) \n",
    "\n",
    "# Importance of Clear and Well-Defined Hypotheses:\n",
    "# Clearly defined hypotheses clarify the purpose of the study.\n",
    "# Hypotheses determine the type of data to collect, the sample size required, and the statistical tests to apply.    \n",
    "# A clear null hypothesis allows to frame the results in terms of rejecting or failing to reject null hypothesis.    \n",
    " "
   ]
  },
  {
   "cell_type": "code",
   "execution_count": 7,
   "metadata": {},
   "outputs": [],
   "source": [
    "# Question 3 Ans :\n",
    "\n",
    "# Null Hypothesis: The null hypothesis states that the average delivery time for online orders has not increased.\n",
    "# I assume the current delivery time for online orders is (μ current) \n",
    "# & previous delivery time for online orders is (μ previous).\n",
    "# So, H0 is (μ current = μ previous)\n",
    "\n",
    "# Alternative Hypothesis: This hypothesis states that the average delivery time for online \n",
    "# orders has significantly increased compared to the previous average.\n",
    "# So, H1 is (μ current > μ previous) \n"
   ]
  },
  {
   "cell_type": "markdown",
   "metadata": {
    "id": "p1Qg6yEBBEDS"
   },
   "source": [
    "### Rejection Region Approach & Z-test Implementation"
   ]
  },
  {
   "cell_type": "markdown",
   "metadata": {
    "id": "Yn8Q2etsCwoA"
   },
   "source": [
    "**Question 1:**\n",
    "You are conducting a Z-test to determine whether the mean score of students in your class is significantly different from the national average. You have collected a sample of 30 student scores, and you know the population standard deviation is 10. Explain the Rejection Region Approach in the context of this test. Provide the formula for calculating the Z-score and describe how you would determine whether to reject the null hypothesis.\n",
    "\n",
    "**Question 2:**\n",
    "A pharmaceutical company is testing a new drug to reduce cholesterol levels in patients. They want to know if the new drug is more effective than the current medication. You have been given data on the cholesterol levels of 50 patients who took the new drug and 50 patients who took the current medication. Using a significance level of 0.05, perform a Z-test to determine if there is a significant difference in cholesterol reduction between the two groups. Show all the steps involved in the test, including setting up the null and alternate hypotheses, calculating the Z-score, and making a decision based on the Rejection Region Approach.\n",
    "\n",
    "**Question 3:**\n",
    "A car manufacturer claims that their new electric car model can travel an average of 250 miles on a single charge. To test this claim, a consumer group selects a random sample of 36 cars from the manufacturer's production line and records their mileage on a single charge. Using the Rejection Region Approach and a significance level of 0.01, conduct a Z-test to determine if there is enough evidence to support the manufacturer's claim. Provide the step-by-step process, including the formulation of hypotheses and the calculation of the Z-score.\n",
    "\n",
    "**Question 4:**\n",
    "A researcher is investigating whether there is a significant difference in the mean salary of employees with a master's degree and those with a bachelor's degree in a particular industry. A random sample of 100 employees with master's degrees and 100 employees with bachelor's degrees is collected. Using the Rejection Region Approach and a significance level of 0.05, perform a Z-test to determine if there is a significant difference in mean salaries between the two groups. Explain how you would set up the null and alternate hypotheses and interpret the results of the test."
   ]
  },
  {
   "cell_type": "code",
   "execution_count": 10,
   "metadata": {
    "id": "ftn5OzvxCGuh"
   },
   "outputs": [],
   "source": [
    "# Rejection Region:\n",
    "# Significance Level(α): Common choices for α are 0.05, 0.01.\n",
    "# Critical Region:                                                                 \n",
    "# The rejection region is the area in the tails of the standard normal distribution beyond −1.96 and +1.96.\n",
    "# If 𝑍 < −1.96 or 𝑍 > 1.96, the null hypothesis is rejected.\n",
    "# Formula:\n",
    "# Z-score = (xbar − μ)/(σ/root-n)\n",
    "# To Determine Whether to Reject 𝐻0:\n",
    "# if Z > 1.96 reject H0 & if Z <= -1.96 fail to reject H0"
   ]
  },
  {
   "cell_type": "code",
   "execution_count": 11,
   "metadata": {
    "id": "1a-Zjj-nDK6U"
   },
   "outputs": [],
   "source": [
    "# Hypothesis:\n",
    "# Null Hypothesis: (μ new = μ current)\n",
    "# Alternative Hypothesis: (μ new > μ current)\n",
    "# Significane level(α) = 0.05, Z-table value at 0.05 is 1.645\n",
    "# Sample size for each group (n new = n current = 50)\n",
    "# Z-score = (xbar − μ)/(σ/root-n)\n",
    "# Decision:\n",
    "# The test statistic does not fall in the rejection region.\n",
    "# We fail to reject the null hypothesis.\n",
    "# Rejection Region:\n",
    "# For one tailed test with α = 0.05, the rejection region is Z > Zcritical = 1.645"
   ]
  },
  {
   "cell_type": "code",
   "execution_count": 14,
   "metadata": {
    "id": "ldysyDwNDK8M"
   },
   "outputs": [],
   "source": [
    "# Hypothesis:\n",
    "# Null hypothesis: μ = 250\n",
    "# Alternative hypothesis: μ != 250 \n",
    "# Significance level: Significance level(α) given as 0.01.\n",
    "# Rejection Region:\n",
    "# This is two tailed test, for two tailed test at α = 0.01, the critical z-score correspond to the\n",
    "# upper and lower 0.5% of the standerd normal distribution, So the critical values is Z critical = -2.576 or +2.576\n",
    "# Rejection Region:- Reject null hypothesis if  (Z < -2.576) or (Z > 2.576)\n",
    "# Z-score = (xbar − μ)/(σ/root-n)\n",
    "# Where, Sample mean is x bar, population mean(μ) = 250, standard deviation is σ, Sample size(n) = 36"
   ]
  },
  {
   "cell_type": "code",
   "execution_count": 15,
   "metadata": {
    "id": "LbjEW3bLDK-Y"
   },
   "outputs": [],
   "source": [
    "# Hypothesis:\n",
    "# Null hypothesis:- Null hypothesis states that there is no significant difference in the mean salary\n",
    "#  of employees with a master's degree(𝜇1)and bachelor's degree(𝜇2). So, (H0: μ1 = μ2).\n",
    "# Alternative Hypothesis:- Alternative hypothesis states that there is a significant difference in \n",
    "#  the mean salary of employees with a master's degree and bachelor's degree. So, (H1: μ1 != μ2).\n",
    "# Z-score = (xbar − μ)/(σ/root-n)\n",
    "# Sample size for master's group: (n1 = 100)\n",
    "# Sample size for bachelor's group: (n2 = 100)\n",
    "# significane level(α) = 0.05\n",
    "# Rejection Region: \n",
    "# At a significance level(α) of 0.05 for a two-tailed test, the critical Z-values are −1.96 and +1.96.\n",
    "# The rejection region is (Z < −1.96) or (Z > 1.96)\n",
    "# Decision:\n",
    "# If Z<−1.96 or Z>1.96, reject the null hypothesis.\n",
    "# If (−1.96 ≤ Z ≤ 1.96), fail to reject the null hypothesis."
   ]
  },
  {
   "cell_type": "markdown",
   "metadata": {
    "id": "h_nDkhsNDL1F"
   },
   "source": [
    "### Type 1 & Type 2 Errors"
   ]
  },
  {
   "cell_type": "markdown",
   "metadata": {
    "id": "hOjnjj0oDuba"
   },
   "source": [
    "**Case Study 1: Medical Testing**\n",
    "\n",
    "**Scenario**:\n",
    "A medical company has developed a new diagnostic test for a rare disease. The test is highly sensitive, meaning it rarely misses true cases of the disease (low Type II error rate). However, the company is concerned about the Type I error rate, as false positives can lead to unnecessary stress and further testing for patients.\n",
    "\n",
    "**Assignment:**\n",
    "\n",
    "1. Describe the potential consequences of a Type I error in this medical testing scenario.\n",
    "2. Explain the potential consequences of a Type II error.\n",
    "3. Discuss the trade-off between Type I and Type II errors in medical testing and how it influences the decision on test thresholds."
   ]
  },
  {
   "cell_type": "code",
   "execution_count": 16,
   "metadata": {
    "id": "ryb6enZJDtbu"
   },
   "outputs": [],
   "source": [
    "# Potential Consequences of a Type I error: \n",
    "# A false positive result may cause a patient who does not have disease to worry about their health.\n",
    "# This could lead to psychological distress.\n",
    "# To confirm the diagnosis, the patient might have to go diagnostic tests. \n",
    "# False positives not only cause unnecessary physical stress for the patient but also waste healthcare \n",
    "# resources.These resources could be better allocated to patients who are actually have the disease."
   ]
  },
  {
   "cell_type": "code",
   "execution_count": 17,
   "metadata": {
    "id": "0nRmPbqND7ml"
   },
   "outputs": [],
   "source": [
    "# Potential Consequences of a Type II error:\n",
    "# The most significant consequence of a Type II error is that the patient may not receive the correct diagnosis \n",
    "# and may go untreated for the disease.                                                                                                                                                                          \n",
    "# False negatives could lead to mis-trust in the diagnostic process, particularly if the disease is failure to detect. \n",
    "# If false negatives go undetected on a larger scale, the disease may spread or affect more individuals,\n",
    "# this contributing to a public health issue."
   ]
  },
  {
   "cell_type": "code",
   "execution_count": 19,
   "metadata": {},
   "outputs": [],
   "source": [
    "# Trade-Off Between Type I and Type II Errors:\n",
    "# In medical testing, the balance between Type I and Type II errors is a critical decision that influences the\n",
    "# overall effectiveness of the test. This balance is often determined by the test threshold. \n",
    "# Lowering the threshold for the test makes it more likely to classify a true case of the disease as \n",
    "# positive. This increases the sensitivity of the test. \n",
    "# However, this comes at the cost of increasing the likelihood of Type I errors(false positives). \n",
    "# On the other side, raising the threshold makes it harder for the test to return a positive result. \n",
    "# This can help reduce Type I errors(false positives), as only patients with strong evidence of the \n",
    "# disease will be classified as positive. \n",
    "# However, this increases the risk of Type II errors (false negatives), as some true cases of the \n",
    "# disease might not be detected."
   ]
  },
  {
   "cell_type": "markdown",
   "metadata": {
    "id": "tfnLuuFTD9vi"
   },
   "source": [
    "**Case Study 2: Criminal Justice System**\n",
    "\n",
    "**Scenario:**\n",
    "In a criminal trial, the prosecution aims to convict a defendant based on evidence. The consequences of a wrongful conviction (Type I error) are severe, but so are the consequences of letting a guilty person go free (Type II error).\n",
    "\n",
    "**Assignment:**\n",
    "\n",
    "1. Describe a situation in the criminal justice system where a Type I error can occur and its implications.\n",
    "2. Provide an example of a situation where a Type II error can occur and its potential consequences.\n",
    "3. Discuss the challenges and ethical considerations in finding a balance between minimizing Type I and Type II errors in criminal trials."
   ]
  },
  {
   "cell_type": "code",
   "execution_count": 22,
   "metadata": {
    "id": "jiLiOftQErJU"
   },
   "outputs": [],
   "source": [
    "# Type I Error in the Criminal Justice System:\n",
    "# Situation: \n",
    "# A Type I error occurs when the prosecution convinces the court to convict an innocent defendant. \n",
    "# This happens when the evidence is insufficient, but the court still rules the defendant guilty.\n",
    "    \n",
    "# Implications: \n",
    "# The innocent person could be wrongfully imprisoned for years or may receive death penalty \n",
    "# in somme cases. The individual suffers from personal, social harm, including the destruction of \n",
    "# their reputation and the emotional trauma. \n",
    "# On the other side, the guilty person remains free, continuing crime in society."
   ]
  },
  {
   "cell_type": "code",
   "execution_count": 21,
   "metadata": {
    "id": "-BC1Q4LHEyj1"
   },
   "outputs": [],
   "source": [
    "# Type II Error in the Criminal Justice System:\n",
    "# Situation: \n",
    "# A Type II error occurs when the court fails to convict a guilty person, allowing them \n",
    "# to go free despite having committed many crime. This often happens when the evidence presented is \n",
    "# insufficient, and the defendant is acquitted.\n",
    "\n",
    "# Potential Consequences: \n",
    "# The consequences of this Type II error are significant. The guilty person remains free, possibly \n",
    "# continuing to commit further crimes. The victim may feel that justice was not served, which can \n",
    "# lead to emotional distress. "
   ]
  },
  {
   "cell_type": "code",
   "execution_count": 23,
   "metadata": {},
   "outputs": [],
   "source": [
    "# Challenges and Ethical Considerations in Balancing Type I and Type II Errors:\n",
    "\n",
    "# The criminal justice system operates that a defendant is innocent until proven guilty. This creates \n",
    "# a bias towards preventing Type I errors at the cost of potentially committing Type II errors. \n",
    "# Ethical concerns about fairness and justice require a conviction to rest on clear and reliable evidence. \n",
    "# The system is designed to protect the innocent, and this can sometimes result in acquitting guilty \n",
    "# individuals when the evidence is not overwhelming.\n",
    " \n",
    "# The ethical stakes of a Type I error are particularly high, as wrongful convictions can ruin lives. \n",
    "# Thus, there is a tendency to err on the side of caution. However, the more strict the criteria \n",
    "# for conviction, the higher the chance that a guilty individual may avoid punishment (Type II error). \n",
    "\n",
    "# A Type II error, while resulting in an acquittal of a guilty person, leaves victims unprotected \n",
    "# and risks future harm. The ethical dilemma here is that society must be protected from individuals \n",
    "# who commit crimes, and if there is sufficient evidence of guilt, it is crucial to ensure that the \n",
    "# guilty are convicted. "
   ]
  },
  {
   "cell_type": "markdown",
   "metadata": {
    "id": "a-e7ZMn5Ey1G"
   },
   "source": [
    "**Case Study 3: Product Quality Control**\n",
    "\n",
    "**Scenario**:\n",
    "A manufacturing company uses a quality control process to ensure that its products meet specific standards. Rejecting a good product (Type I error) can be costly, while accepting a defective product (Type II error) can harm the company's reputation.\n",
    "\n",
    "**Assignment**:\n",
    "\n",
    "1. Describe a scenario in product quality control where a Type I error may occur and its financial implications.\n",
    "2. Provide an example of a situation where a Type II error can occur and its potential impact on the company's reputation.\n",
    "3. Discuss strategies that the company can implement to strike a balance between minimizing Type I and Type II errors in its quality control process."
   ]
  },
  {
   "cell_type": "code",
   "execution_count": 24,
   "metadata": {
    "id": "GLVhNd-jFC6V"
   },
   "outputs": [],
   "source": [
    "# Type I Error Scenario and Financial Implications:\n",
    "# Scenario: \n",
    "# A company manufactures high-end smartphones and uses a quality control (QC) process to test the \n",
    "# screens for defects. In the QC process, a batch of screens is tested using a sensor that checks \n",
    "# for minor imperfections in the display, such as tiny scratches. However, the sensor is overly \n",
    "# sensitive, and it mistakenly rejects screens that are actually flawless.\n",
    "\n",
    "# Financial Implications: \n",
    "# The rejected screens, which were perfectly fine, may result in the company missing shipment deadlines \n",
    "# or failing to meet demand in the market, which could cause a loss of sales. \n",
    "# The company's reputation may be affected if delays in shipping cause dis-satisfaction among customers, \n",
    "# leading to negative reviews and a potential loss of future orders."
   ]
  },
  {
   "cell_type": "code",
   "execution_count": 25,
   "metadata": {
    "id": "-nqzh2CnFEJq"
   },
   "outputs": [],
   "source": [
    "# Type II Error Scenario and Impact on Reputation:\n",
    "# Scenario: \n",
    "# In same smartphone manufacturing company, the QC process is designed to check for functional \n",
    "# defects in the phone's battery. However, the testing equipment is not able to detect a certain type \n",
    "# of defect where the battery might fail after several months of usage, but not immediately upon testing.\n",
    "\n",
    "# Impact on Reputation: \n",
    "# A batch of phones with these defective batteries passes through QC, and the products are shipped \n",
    "# to customers. After a few months of use, customers begin to experience battery failures, which are \n",
    "# a serious inconvenience.\n",
    "# The company is now associated with unreliable products, leading to decrease in customer trust, and \n",
    "# potentially a drop in sales.The failure of the battery may also lead to warranty claims and returns, \n",
    "# further adding to the company's costs and tarnishing its brand image."
   ]
  },
  {
   "cell_type": "code",
   "execution_count": 26,
   "metadata": {},
   "outputs": [],
   "source": [
    "# Strategies to Minimize Type I and Type II Errors:\n",
    "\n",
    "# Use a combination of tests, where different types of defects are checked at various stages of production. \n",
    "# This can ensure that minor imperfections don’t lead to unnecessary rejections.\n",
    "\n",
    "# Instead of testing only a small sample, increase the sample size to get a more accurate representation \n",
    "# of the batch's quality. This can reduce the chance of both Type I and Type II errors by providing more \n",
    "# data for decision-making.\n",
    "\n",
    "# Quality Control Process:\n",
    "# If Type II errors are occurring, the company should review the testing equipment and quality metrics \n",
    "# to ensure the process is fine-tuned for detecting defects before products are shipped."
   ]
  },
  {
   "cell_type": "markdown",
   "metadata": {
    "id": "Ovd9bNBZFX4c"
   },
   "source": [
    "### P-value Approach & T-test Implementation"
   ]
  },
  {
   "cell_type": "markdown",
   "metadata": {
    "id": "vpIQ8xAZFdN5"
   },
   "source": [
    "**Case Study 1: Education**\n",
    "\n",
    "**Scenario**:\n",
    "A school district is implementing a new teaching method aimed at improving students' math scores. They want to know if the new method is effective. A random sample of 30 students who received the new instruction method is compared to a sample of 30 students who received the traditional method. The district wants to use a t-test to analyze the data.\n",
    "\n",
    "**Assignment:**\n",
    "\n",
    "1. Formulate the null and alternate hypotheses for this study.\n",
    "2. Perform a t-test using the collected data and calculate the t-statistic.\n",
    "3. Calculate the P-value and interpret its significance.\n",
    "Based on the P-value and a significance level of 0.05, make a decision regarding the null hypothesis."
   ]
  },
  {
   "cell_type": "code",
   "execution_count": 28,
   "metadata": {
    "id": "juS5rJ3YFb1r"
   },
   "outputs": [],
   "source": [
    "# Null hypothesis:- There is no difference in the mean math scores between the two groups \n",
    " # new method(μ1) and traditional method(μ2). So, (H0: μ1 = μ2)\n",
    "# Alternative hypothesis:- The mean math score of the students receiving the new method is different \n",
    " # from the mean math score of the students receiving the traditional method. So, (H1: μ1 != μ2) "
   ]
  },
  {
   "cell_type": "code",
   "execution_count": 29,
   "metadata": {
    "id": "54wqJc85GUij"
   },
   "outputs": [],
   "source": [
    "# T-test = (x1bar - x2bar)/(root(s1^2/n1)+(s2^2/n2))\n",
    "# Here, \n",
    "# x1bar, x2bar = Sample mean for new and traditional methods.\n",
    "# s1^2, s2^2 = Sample variance for new and taditional methods.\n",
    "# n1, n2 = Sample size for both group ( in this case both are 30)"
   ]
  },
  {
   "cell_type": "code",
   "execution_count": 30,
   "metadata": {
    "id": "dDVCqb2RGU8g"
   },
   "outputs": [],
   "source": [
    "# We can calculate P-value from t-distribution table.\n",
    "\n",
    "# P-value Significance:\n",
    "# If P-value is less than the significance level (0.05), we reject the null hypothesis (H₀) and \n",
    "# conclude that there is a statistically significant difference between the math scores of the two groups.\n",
    "    \n",
    "# If the P-value is greater than the significance level (0.05), we fail to reject the null hypothesis(H₀) \n",
    "# and conclude that there is no statistically significant difference between the math scores of the two groups.\n",
    "\n",
    "# Decision:\n",
    "# If the P-value is less than 0.05, reject the null hypothesis and conclude that the new teaching \n",
    "# method is significantly different from the traditional method.\n",
    "\n",
    "# If the P-value is greater than 0.05, fail to reject the null hypothesis and conclude that there \n",
    "# is no significant difference in math scores between the two teaching methods."
   ]
  },
  {
   "cell_type": "markdown",
   "metadata": {
    "id": "dpeE6GzTGVtT"
   },
   "source": [
    "**Case Study 2: Baseball Player Performance**\n",
    "\n",
    "**Scenario**:\n",
    "You are a data analyst for a professional baseball team. The team's management wants to assess whether a new training program has led to a significant improvement in the batting averages of their players. You have collected batting average data for two groups of players: one group who underwent the new training program (Group A) and another group who did not (Group B).\n",
    "\n",
    "**Data**:\n",
    "\n",
    "**Group A** (New Training Program):\n",
    "\n",
    "Sample Size: 25 players,\n",
    "Mean Batting Average: 0.285,\n",
    "Sample Standard Deviation: 0.040.\n",
    "\n",
    "**Group B** (No Training Program):\n",
    "\n",
    "Sample Size: 30 players,\n",
    "Mean Batting Average: 0.270,\n",
    "Sample Standard Deviation: 0.045.\n",
    "\n",
    "**Assignment:**\n",
    "\n",
    "1. Formulate the null and alternate hypotheses to test whether the new training program has led to a significant improvement in batting averages.\n",
    "2. Conduct a two-sample t-test using the provided data. Calculate the t-statistic.\n",
    "3. Calculate the degrees of freedom for the test.\n",
    "4. Calculate the p-value associated with the test.\n",
    "5. Interpret the results and make a recommendation to the team's management based on the p-value approach."
   ]
  },
  {
   "cell_type": "code",
   "execution_count": 31,
   "metadata": {
    "id": "U0J3dfB8HT9P"
   },
   "outputs": [],
   "source": [
    "# Null hypothesis:- The new training program has no effect on the batting averages. Therefore, the \n",
    "# mean batting average of Group A is equal to the mean batting average of Group B.\n",
    "# So, (H0: μA = μB)\n",
    "# Alternative Hypothesis:- The new training program has led to an improvement in the batting averages. \n",
    "# Therefore, the mean batting average of Group A is greater than that of Group B.\n",
    "# So, (H1: μA > μB) "
   ]
  },
  {
   "cell_type": "code",
   "execution_count": 32,
   "metadata": {
    "id": "mh8cRgVzHUx3"
   },
   "outputs": [],
   "source": [
    "# T-test = (xA bar - xB bar)/(root(sA^2/nA)+(sB^2/nB))\n",
    "# Here,\n",
    "# xA bar = Mean of Group A = 0.285\n",
    "# xB bar = Mean of Group B = 0.270\n",
    "# sA = Standard Deviation of Group A = 0.040\n",
    "# sB = Standard Deviation of Group B = 0.045\n",
    "# nA = Sample size of Group A = 25\n",
    "# nB = Sample size of Group B = 30\n",
    "\n",
    "# t-statistic value is 1.36 ."
   ]
  },
  {
   "cell_type": "code",
   "execution_count": 37,
   "metadata": {
    "id": "2_-_t6d_HUmO"
   },
   "outputs": [],
   "source": [
    "# degrees of freedom(df) = ((sA^2/nA)+(sB^2/nB))^2 / (((sA^2/nA)^2 / (nA-1)) + ((sB^2/nB)^2 / (nB-1)))\n",
    "# degrees of freedom value is 51.51 \n"
   ]
  },
  {
   "cell_type": "code",
   "execution_count": 38,
   "metadata": {
    "id": "wsHItEvtHVUq"
   },
   "outputs": [],
   "source": [
    "# After calculating the t-statistic and the degrees of freedom value, \n",
    "# we can calculate the p-value using t-distribution table. p-value represents the probability of obtaining t-statistic.\n",
    "# p-value is 0.098"
   ]
  },
  {
   "cell_type": "code",
   "execution_count": 39,
   "metadata": {},
   "outputs": [],
   "source": [
    "# Results based on p-value:\n",
    "# Based on the p-value, we will determine reject or fail to reject the null hypothesis. \n",
    "\n",
    "# If the p-value is less than the significance level (usually 0.05), we reject the null hypothesis \n",
    "# and conclude that the new training program has led to a significant improvement.\n",
    "    \n",
    "# If the p-value is greater than the significance level, we fail to reject the null hypothesis and \n",
    "# conclude that there is not enough evidence to say the new training program improved the batting average."
   ]
  },
  {
   "cell_type": "code",
   "execution_count": null,
   "metadata": {},
   "outputs": [],
   "source": []
  }
 ],
 "metadata": {
  "colab": {
   "provenance": []
  },
  "kernelspec": {
   "display_name": "Python 3 (ipykernel)",
   "language": "python",
   "name": "python3"
  },
  "language_info": {
   "codemirror_mode": {
    "name": "ipython",
    "version": 3
   },
   "file_extension": ".py",
   "mimetype": "text/x-python",
   "name": "python",
   "nbconvert_exporter": "python",
   "pygments_lexer": "ipython3",
   "version": "3.11.7"
  }
 },
 "nbformat": 4,
 "nbformat_minor": 4
}
