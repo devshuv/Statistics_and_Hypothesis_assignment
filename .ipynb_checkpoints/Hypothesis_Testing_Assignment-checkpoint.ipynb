{
  "nbformat": 4,
  "nbformat_minor": 0,
  "metadata": {
    "colab": {
      "provenance": []
    },
    "kernelspec": {
      "name": "python3",
      "display_name": "Python 3"
    },
    "language_info": {
      "name": "python"
    }
  },
  "cells": [
    {
      "cell_type": "markdown",
      "source": [
        "# <center> **Hypothesis Testing**"
      ],
      "metadata": {
        "id": "wEPtWHTN-zvg"
      }
    },
    {
      "cell_type": "markdown",
      "source": [
        "### Null & Alternate Hypothesis"
      ],
      "metadata": {
        "id": "ayRuyuJ8AClo"
      }
    },
    {
      "cell_type": "markdown",
      "source": [
        "**Question 1:**\n",
        "Suppose you are conducting a study to determine whether a new drug is effective in reducing blood pressure. Define the null hypothesis (H0) and the alternate hypothesis (H1) for this study. Explain the significance of each hypothesis in the context of your research.\n",
        "\n",
        "**Question 2:**\n",
        "You are working with a manufacturing company that claims its new manufacturing process can produce car batteries with a longer lifespan than the current process. Formulate the null and alternate hypotheses for this scenario. Additionally, explain why it's essential to have clear and well-defined hypotheses before conducting hypothesis testing.\n",
        "\n",
        "**Question 3:**\n",
        "A fast-food restaurant chain is concerned that the average delivery time for online orders has increased in recent months, potentially affecting customer satisfaction. Create the null and alternate hypotheses for testing whether there has been a significant increase in delivery times.\n",
        "\n",
        "*These questions will help you to practice defining and understanding null and alternate hypotheses in various real-world scenarios.*"
      ],
      "metadata": {
        "id": "eKtIPPHAA8VC"
      }
    },
    {
      "cell_type": "code",
      "source": [],
      "metadata": {
        "id": "-D8KGFdxA1RJ"
      },
      "execution_count": null,
      "outputs": []
    },
    {
      "cell_type": "code",
      "source": [],
      "metadata": {
        "id": "cAAfvz0CBC_b"
      },
      "execution_count": null,
      "outputs": []
    },
    {
      "cell_type": "markdown",
      "source": [
        "### Rejection Region Approach & Z-test Implementation"
      ],
      "metadata": {
        "id": "p1Qg6yEBBEDS"
      }
    },
    {
      "cell_type": "markdown",
      "source": [
        "**Question 1:**\n",
        "You are conducting a Z-test to determine whether the mean score of students in your class is significantly different from the national average. You have collected a sample of 30 student scores, and you know the population standard deviation is 10. Explain the Rejection Region Approach in the context of this test. Provide the formula for calculating the Z-score and describe how you would determine whether to reject the null hypothesis.\n",
        "\n",
        "**Question 2:**\n",
        "A pharmaceutical company is testing a new drug to reduce cholesterol levels in patients. They want to know if the new drug is more effective than the current medication. You have been given data on the cholesterol levels of 50 patients who took the new drug and 50 patients who took the current medication. Using a significance level of 0.05, perform a Z-test to determine if there is a significant difference in cholesterol reduction between the two groups. Show all the steps involved in the test, including setting up the null and alternate hypotheses, calculating the Z-score, and making a decision based on the Rejection Region Approach.\n",
        "\n",
        "**Question 3:**\n",
        "A car manufacturer claims that their new electric car model can travel an average of 250 miles on a single charge. To test this claim, a consumer group selects a random sample of 36 cars from the manufacturer's production line and records their mileage on a single charge. Using the Rejection Region Approach and a significance level of 0.01, conduct a Z-test to determine if there is enough evidence to support the manufacturer's claim. Provide the step-by-step process, including the formulation of hypotheses and the calculation of the Z-score.\n",
        "\n",
        "**Question 4:**\n",
        "A researcher is investigating whether there is a significant difference in the mean salary of employees with a master's degree and those with a bachelor's degree in a particular industry. A random sample of 100 employees with master's degrees and 100 employees with bachelor's degrees is collected. Using the Rejection Region Approach and a significance level of 0.05, perform a Z-test to determine if there is a significant difference in mean salaries between the two groups. Explain how you would set up the null and alternate hypotheses and interpret the results of the test."
      ],
      "metadata": {
        "id": "Yn8Q2etsCwoA"
      }
    },
    {
      "cell_type": "code",
      "source": [],
      "metadata": {
        "id": "ftn5OzvxCGuh"
      },
      "execution_count": null,
      "outputs": []
    },
    {
      "cell_type": "code",
      "source": [],
      "metadata": {
        "id": "1a-Zjj-nDK6U"
      },
      "execution_count": null,
      "outputs": []
    },
    {
      "cell_type": "code",
      "source": [],
      "metadata": {
        "id": "ldysyDwNDK8M"
      },
      "execution_count": null,
      "outputs": []
    },
    {
      "cell_type": "code",
      "source": [],
      "metadata": {
        "id": "LbjEW3bLDK-Y"
      },
      "execution_count": null,
      "outputs": []
    },
    {
      "cell_type": "code",
      "source": [],
      "metadata": {
        "id": "NIL0-edIDLAo"
      },
      "execution_count": null,
      "outputs": []
    },
    {
      "cell_type": "markdown",
      "source": [
        "### Type 1 & Type 2 Errors"
      ],
      "metadata": {
        "id": "h_nDkhsNDL1F"
      }
    },
    {
      "cell_type": "markdown",
      "source": [
        "**Case Study 1: Medical Testing**\n",
        "\n",
        "**Scenario**:\n",
        "A medical company has developed a new diagnostic test for a rare disease. The test is highly sensitive, meaning it rarely misses true cases of the disease (low Type II error rate). However, the company is concerned about the Type I error rate, as false positives can lead to unnecessary stress and further testing for patients.\n",
        "\n",
        "**Assignment:**\n",
        "\n",
        "1. Describe the potential consequences of a Type I error in this medical testing scenario.\n",
        "2. Explain the potential consequences of a Type II error.\n",
        "3. Discuss the trade-off between Type I and Type II errors in medical testing and how it influences the decision on test thresholds."
      ],
      "metadata": {
        "id": "hOjnjj0oDuba"
      }
    },
    {
      "cell_type": "code",
      "source": [],
      "metadata": {
        "id": "ryb6enZJDtbu"
      },
      "execution_count": null,
      "outputs": []
    },
    {
      "cell_type": "code",
      "source": [],
      "metadata": {
        "id": "0nRmPbqND7ml"
      },
      "execution_count": null,
      "outputs": []
    },
    {
      "cell_type": "markdown",
      "source": [
        "**Case Study 2: Criminal Justice System**\n",
        "\n",
        "**Scenario:**\n",
        "In a criminal trial, the prosecution aims to convict a defendant based on evidence. The consequences of a wrongful conviction (Type I error) are severe, but so are the consequences of letting a guilty person go free (Type II error).\n",
        "\n",
        "**Assignment:**\n",
        "\n",
        "1. Describe a situation in the criminal justice system where a Type I error can occur and its implications.\n",
        "2. Provide an example of a situation where a Type II error can occur and its potential consequences.\n",
        "3. Discuss the challenges and ethical considerations in finding a balance between minimizing Type I and Type II errors in criminal trials."
      ],
      "metadata": {
        "id": "tfnLuuFTD9vi"
      }
    },
    {
      "cell_type": "code",
      "source": [],
      "metadata": {
        "id": "jiLiOftQErJU"
      },
      "execution_count": null,
      "outputs": []
    },
    {
      "cell_type": "code",
      "source": [],
      "metadata": {
        "id": "-BC1Q4LHEyj1"
      },
      "execution_count": null,
      "outputs": []
    },
    {
      "cell_type": "markdown",
      "source": [
        "**Case Study 3: Product Quality Control**\n",
        "\n",
        "**Scenario**:\n",
        "A manufacturing company uses a quality control process to ensure that its products meet specific standards. Rejecting a good product (Type I error) can be costly, while accepting a defective product (Type II error) can harm the company's reputation.\n",
        "\n",
        "**Assignment**:\n",
        "\n",
        "1. Describe a scenario in product quality control where a Type I error may occur and its financial implications.\n",
        "2. Provide an example of a situation where a Type II error can occur and its potential impact on the company's reputation.\n",
        "3. Discuss strategies that the company can implement to strike a balance between minimizing Type I and Type II errors in its quality control process."
      ],
      "metadata": {
        "id": "a-e7ZMn5Ey1G"
      }
    },
    {
      "cell_type": "code",
      "source": [],
      "metadata": {
        "id": "GLVhNd-jFC6V"
      },
      "execution_count": null,
      "outputs": []
    },
    {
      "cell_type": "code",
      "source": [],
      "metadata": {
        "id": "-nqzh2CnFEJq"
      },
      "execution_count": null,
      "outputs": []
    },
    {
      "cell_type": "markdown",
      "source": [
        "### P-value Approach & T-test Implementation"
      ],
      "metadata": {
        "id": "Ovd9bNBZFX4c"
      }
    },
    {
      "cell_type": "markdown",
      "source": [
        "**Case Study 1: Education**\n",
        "\n",
        "**Scenario**:\n",
        "A school district is implementing a new teaching method aimed at improving students' math scores. They want to know if the new method is effective. A random sample of 30 students who received the new instruction method is compared to a sample of 30 students who received the traditional method. The district wants to use a t-test to analyze the data.\n",
        "\n",
        "**Assignment:**\n",
        "\n",
        "1. Formulate the null and alternate hypotheses for this study.\n",
        "2. Perform a t-test using the collected data and calculate the t-statistic.\n",
        "3. Calculate the P-value and interpret its significance.\n",
        "Based on the P-value and a significance level of 0.05, make a decision regarding the null hypothesis."
      ],
      "metadata": {
        "id": "vpIQ8xAZFdN5"
      }
    },
    {
      "cell_type": "code",
      "source": [],
      "metadata": {
        "id": "juS5rJ3YFb1r"
      },
      "execution_count": null,
      "outputs": []
    },
    {
      "cell_type": "code",
      "source": [],
      "metadata": {
        "id": "54wqJc85GUij"
      },
      "execution_count": null,
      "outputs": []
    },
    {
      "cell_type": "code",
      "source": [],
      "metadata": {
        "id": "dDVCqb2RGU8g"
      },
      "execution_count": null,
      "outputs": []
    },
    {
      "cell_type": "markdown",
      "source": [
        "**Case Study 2: Baseball Player Performance**\n",
        "\n",
        "**Scenario**:\n",
        "You are a data analyst for a professional baseball team. The team's management wants to assess whether a new training program has led to a significant improvement in the batting averages of their players. You have collected batting average data for two groups of players: one group who underwent the new training program (Group A) and another group who did not (Group B).\n",
        "\n",
        "**Data**:\n",
        "\n",
        "**Group A** (New Training Program):\n",
        "\n",
        "Sample Size: 25 players,\n",
        "Mean Batting Average: 0.285,\n",
        "Sample Standard Deviation: 0.040.\n",
        "\n",
        "**Group B** (No Training Program):\n",
        "\n",
        "Sample Size: 30 players,\n",
        "Mean Batting Average: 0.270,\n",
        "Sample Standard Deviation: 0.045.\n",
        "\n",
        "**Assignment:**\n",
        "\n",
        "1. Formulate the null and alternate hypotheses to test whether the new training program has led to a significant improvement in batting averages.\n",
        "2. Conduct a two-sample t-test using the provided data. Calculate the t-statistic.\n",
        "3. Calculate the degrees of freedom for the test.\n",
        "4. Calculate the p-value associated with the test.\n",
        "5. Interpret the results and make a recommendation to the team's management based on the p-value approach."
      ],
      "metadata": {
        "id": "dpeE6GzTGVtT"
      }
    },
    {
      "cell_type": "code",
      "source": [],
      "metadata": {
        "id": "U0J3dfB8HT9P"
      },
      "execution_count": null,
      "outputs": []
    },
    {
      "cell_type": "code",
      "source": [],
      "metadata": {
        "id": "mh8cRgVzHUx3"
      },
      "execution_count": null,
      "outputs": []
    },
    {
      "cell_type": "code",
      "source": [],
      "metadata": {
        "id": "2_-_t6d_HUmO"
      },
      "execution_count": null,
      "outputs": []
    },
    {
      "cell_type": "code",
      "source": [],
      "metadata": {
        "id": "wsHItEvtHVUq"
      },
      "execution_count": null,
      "outputs": []
    }
  ]
}